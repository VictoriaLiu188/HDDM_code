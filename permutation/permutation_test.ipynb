{
 "cells": [
  {
   "cell_type": "code",
   "execution_count": 3,
   "metadata": {},
   "outputs": [
    {
     "ename": "ModuleNotFoundError",
     "evalue": "No module named 'sklearn'",
     "output_type": "error",
     "traceback": [
      "\u001b[0;31m---------------------------------------------------------------------------\u001b[0m",
      "\u001b[0;31mModuleNotFoundError\u001b[0m                       Traceback (most recent call last)",
      "Cell \u001b[0;32mIn[3], line 1\u001b[0m\n\u001b[0;32m----> 1\u001b[0m \u001b[39mimport\u001b[39;00m \u001b[39msklearn\u001b[39;00m\u001b[39m.\u001b[39;00m\u001b[39mmodel_selection\u001b[39;00m\n\u001b[1;32m      2\u001b[0m \u001b[39mfrom\u001b[39;00m \u001b[39msklearn\u001b[39;00m\u001b[39m.\u001b[39;00m\u001b[39mmodel_selection\u001b[39;00m \u001b[39mimport\u001b[39;00m permutation_test_score\n\u001b[1;32m      3\u001b[0m \u001b[39m# warning settings\u001b[39;00m\n",
      "\u001b[0;31mModuleNotFoundError\u001b[0m: No module named 'sklearn'"
     ]
    }
   ],
   "source": [
    "import sklearn.model_selection\n",
    "from sklearn.model_selection import permutation_test_score\n",
    "# warning settings\n",
    "import warnings\n",
    "warnings.simplefilter(action='ignore', category=FutureWarning)\n",
    "\n",
    "# Data management\n",
    "import pandas as pd\n",
    "import numpy as np\n",
    "import pickle\n",
    "\n",
    "# Plotting\n",
    "import matplotlib.pyplot as plt\n",
    "import matplotlib\n",
    "import seaborn as sns\n",
    "\n",
    "# HDDM\n",
    "import hddm\n",
    "import scipy.stats\n",
    "# from scipy.stats import permutation_test\n",
    "import random\n"
   ]
  },
  {
   "cell_type": "code",
   "execution_count": 2,
   "metadata": {},
   "outputs": [
    {
     "data": {
      "text/plain": [
       "1604"
      ]
     },
     "execution_count": 2,
     "metadata": {},
     "output_type": "execute_result"
    }
   ],
   "source": [
    "df_orig = pd.read_csv('/data2/victoria/brain_data/brain_behav_late_learn.csv')\n",
    "# df = df_orig.loc[:,['sbj','correct','rt','trial','run','type','learner','roi1']]\n",
    "# df.columns = ('subj_idx','response','rt','trial','run','type','learner','roi1')\n",
    "df = df_orig\n",
    "df.rt = df.rt/1000\n",
    "df = hddm.utils.flip_errors(df)\n",
    "df = df.dropna()\n",
    "len(df)"
   ]
  },
  {
   "attachments": {},
   "cell_type": "markdown",
   "metadata": {},
   "source": [
    "split df into behavioral and roi two dfs, and only shuffle the behave df\n",
    "later concat the two dfs again"
   ]
  },
  {
   "cell_type": "code",
   "execution_count": 5,
   "metadata": {},
   "outputs": [],
   "source": [
    "\n",
    "roi_df = df.iloc[:,-108:]\n",
    "behave_df =df.iloc[:,1:17]\n"
   ]
  },
  {
   "attachments": {},
   "cell_type": "markdown",
   "metadata": {},
   "source": [
    "loop 1000 times for each roi\n",
    "run all the models after each shuffle"
   ]
  },
  {
   "cell_type": "code",
   "execution_count": 6,
   "metadata": {},
   "outputs": [
    {
     "name": "stderr",
     "output_type": "stream",
     "text": [
      "/data/software/miniconda3/envs/hddm0.9/lib/python3.6/site-packages/ipykernel_launcher.py:17: SettingWithCopyWarning: \n",
      "A value is trying to be set on a copy of a slice from a DataFrame.\n",
      "Try using .loc[row_indexer,col_indexer] = value instead\n",
      "\n",
      "See the caveats in the documentation: https://pandas.pydata.org/pandas-docs/stable/user_guide/indexing.html#returning-a-view-versus-a-copy\n",
      "/data/software/miniconda3/envs/hddm0.9/lib/python3.6/site-packages/ipykernel_launcher.py:18: SettingWithCopyWarning: \n",
      "A value is trying to be set on a copy of a slice from a DataFrame.\n",
      "Try using .loc[row_indexer,col_indexer] = value instead\n",
      "\n",
      "See the caveats in the documentation: https://pandas.pydata.org/pandas-docs/stable/user_guide/indexing.html#returning-a-view-versus-a-copy\n"
     ]
    }
   ],
   "source": [
    "roi_ls = [41]\n",
    "for i in range(0,1):\n",
    "    num_row = 0\n",
    "    behav_shu = pd.DataFrame()\n",
    "    for p in range(100,143):\n",
    "        if p in behave_df['sbj'].values:\n",
    "            subj_df = behave_df[behave_df['sbj']== p] #identify each subject and put into a smaller df\n",
    "            nrow= len(subj_df)\n",
    "            count_5 = subj_df['run'].value_counts()[5]\n",
    "            count_6 = subj_df['run'].value_counts()[6]\n",
    "            run_5 = [5] * count_5\n",
    "            run_6 = [6] * count_6\n",
    "            new_run = run_5 + run_6\n",
    "            rand_5 = random.sample(range(1,count_5+1),count_5)\n",
    "            rand_6 = random.sample(range(1,count_6+1),count_6)\n",
    "            rand_int = rand_5 + rand_6\n",
    "            subj_df['runtrial'] = rand_int\n",
    "            subj_df['run'] = new_run\n",
    "            subj_sorted = subj_df.sort_values(by=['run', 'runtrial'])\n",
    "            # subj_sorted.to_csv(f'{p}_sorted.csv')\n",
    "            behav_shu = pd.concat([behav_shu,subj_sorted], axis=0) # concat dfs vertically\n",
    "    # df_shu = subj_df.sort_values(by=['run', 'runtrial'])\n",
    "    # df_noind = behav_shu.iloc[:,1:]\n",
    "    behav_shu = behav_shu.reset_index(drop=True)\n",
    "    roi_df = roi_df.reset_index(drop=True)\n",
    "    df_shu = pd.concat([behav_shu,roi_df], axis=1)\n",
    "    #behav_shu.to_csv(f'behav_shu{i}.csv')\n",
    "    #df_shu.to_csv(f'whole_shuffled{i}.csv')\n",
    "   \n",
    "    "
   ]
  },
  {
   "cell_type": "code",
   "execution_count": 9,
   "metadata": {},
   "outputs": [
    {
     "name": "stdout",
     "output_type": "stream",
     "text": [
      "No model attribute --> setting up standard HDDM\n",
      "Set model to ddm\n",
      " [-----------------102%-----------------] 51 of 50 complete in 32.7 sec                                                               mean         std       2.5q        25q        50q        75q      97.5q      mc err\n",
      "v                                                         0.0515884   0.0224226  0.0129491  0.0327559  0.0582597  0.0685959  0.0826121  0.00334256\n",
      "t                                                          0.362283  0.00729788   0.344129   0.359933    0.36355   0.367119   0.372746   0.0010879\n",
      "a_Intercept                                                 1.71332   0.0511258    1.65881    1.67917    1.70798    1.72492    1.85895  0.00762139\n",
      "a_C(type, Treatment('prototype'))[T.exception]             0.122624   0.0826193 -0.0812538  0.0870424    0.12805   0.169368   0.268258   0.0123162\n",
      "a_C(type, Treatment('prototype'))[T.rule follower]         0.130305   0.0785184 -0.0841472   0.092647   0.134901   0.176086    0.26798   0.0117048\n",
      "a_roi41                                                    -1.67753     1.20599   -5.51357   -1.73647   -1.45766     -1.269   -0.35997    0.179778\n",
      "a_roi41:C(type, Treatment('prototype'))[T.exception]       0.958811     1.68412  -0.958977   0.288183   0.556483    1.16864    7.29113    0.251054\n",
      "a_roi41:C(type, Treatment('prototype'))[T.rule follower]    1.10461     1.73859   -1.24243   0.590554   0.879196    1.23411    3.92038    0.259174\n",
      "DIC: 4507.596195\n",
      "deviance: 4476.511729\n",
      "pD: 31.084465\n",
      " roi41 DIC value: 4507.596194569407\n"
     ]
    }
   ],
   "source": [
    "# roi_ls = [31]\n",
    "for roi in roi_ls:\n",
    "        m_reg = hddm.HDDMRegressor(df_shu,f\"a ~ roi{roi} * C(type,Treatment('prototype'))\",\n",
    "                                p_outlier=0.05)  \n",
    "        m_reg.sample(50, burn=5)\n",
    "        m_reg.print_stats()\n",
    "        print(f\" roi{roi} DIC value: {m_reg.dic}\")\n",
    "        "
   ]
  },
  {
   "cell_type": "code",
   "execution_count": 15,
   "metadata": {},
   "outputs": [],
   "source": [
    "stats = m_reg.gen_stats()"
   ]
  },
  {
   "cell_type": "code",
   "execution_count": 19,
   "metadata": {},
   "outputs": [
    {
     "name": "stdout",
     "output_type": "stream",
     "text": [
      "4587.792264986136\n"
     ]
    }
   ],
   "source": [
    "print(m_reg.dic)"
   ]
  },
  {
   "cell_type": "code",
   "execution_count": null,
   "metadata": {},
   "outputs": [],
   "source": [
    "for roi in roi_ls:\n",
    "        m_reg = hddm.HDDMRegressor(df_shu,f\"v ~ roi{roi} * C(type,Treatment('prototype'))\",\n",
    "                                p_outlier=0.05)  \n",
    "        m_reg.sample(2000, burn=1000)\n",
    "        # m_reg.print_stats()\n",
    "        "
   ]
  }
 ],
 "metadata": {
  "kernelspec": {
   "display_name": "hddm0.9",
   "language": "python",
   "name": "python3"
  },
  "language_info": {
   "codemirror_mode": {
    "name": "ipython",
    "version": 3
   },
   "file_extension": ".py",
   "mimetype": "text/x-python",
   "name": "python",
   "nbconvert_exporter": "python",
   "pygments_lexer": "ipython3",
   "version": "3.11.3"
  },
  "orig_nbformat": 4,
  "vscode": {
   "interpreter": {
    "hash": "bdb9c5480803eea6e2d68b6e4614691b7b9970c248fc01b47d610ef9af835dbd"
   }
  }
 },
 "nbformat": 4,
 "nbformat_minor": 2
}
