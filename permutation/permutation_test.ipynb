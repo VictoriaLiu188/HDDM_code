{
 "cells": [
  {
   "cell_type": "code",
   "execution_count": 1,
   "metadata": {},
   "outputs": [
    {
     "name": "stderr",
     "output_type": "stream",
     "text": [
      "\n",
      "Bad key \"text.kerning_factor\" on line 4 in\n",
      "/data/software/miniconda3/envs/hddm0.9/lib/python3.6/site-packages/matplotlib/mpl-data/stylelib/_classic_test_patch.mplstyle.\n",
      "You probably need to get an updated matplotlibrc file from\n",
      "https://github.com/matplotlib/matplotlib/blob/v3.1.3/matplotlibrc.template\n",
      "or from the matplotlib source distribution\n",
      "/data/software/miniconda3/envs/hddm0.9/lib/python3.6/site-packages/tqdm/auto.py:22: TqdmWarning: IProgress not found. Please update jupyter and ipywidgets. See https://ipywidgets.readthedocs.io/en/stable/user_install.html\n",
      "  from .autonotebook import tqdm as notebook_tqdm\n"
     ]
    }
   ],
   "source": [
    "import sklearn.model_selection\n",
    "from sklearn.model_selection import permutation_test_score\n",
    "# warning settings\n",
    "import warnings\n",
    "warnings.simplefilter(action='ignore', category=FutureWarning)\n",
    "\n",
    "# Data management\n",
    "import pandas as pd\n",
    "import numpy as np\n",
    "import pickle\n",
    "\n",
    "# Plotting\n",
    "import matplotlib.pyplot as plt\n",
    "import matplotlib\n",
    "import seaborn as sns\n",
    "\n",
    "# HDDM\n",
    "import hddm\n",
    "import scipy.stats\n",
    "# from scipy.stats import permutation_test\n",
    "import random\n"
   ]
  },
  {
   "cell_type": "code",
   "execution_count": 2,
   "metadata": {},
   "outputs": [
    {
     "data": {
      "text/plain": [
       "1604"
      ]
     },
     "execution_count": 2,
     "metadata": {},
     "output_type": "execute_result"
    }
   ],
   "source": [
    "df_orig = pd.read_csv('/data2/victoria/brain_data/brain_behav_late_learn.csv')\n",
    "# df = df_orig.loc[:,['sbj','correct','rt','trial','run','type','learner','roi1']]\n",
    "# df.columns = ('subj_idx','response','rt','trial','run','type','learner','roi1')\n",
    "df = df_orig\n",
    "df.rt = df.rt/1000\n",
    "df = hddm.utils.flip_errors(df)\n",
    "df = df.dropna()\n",
    "len(df)"
   ]
  },
  {
   "attachments": {},
   "cell_type": "markdown",
   "metadata": {},
   "source": [
    "split df into behavioral and roi two dfs, and only shuffle the behave df\n",
    "later concat the two dfs again"
   ]
  },
  {
   "cell_type": "code",
   "execution_count": 3,
   "metadata": {},
   "outputs": [],
   "source": [
    "\n",
    "roi_df = df.iloc[:,-108:]\n",
    "behave_df =df.iloc[:,1:17]\n"
   ]
  },
  {
   "attachments": {},
   "cell_type": "markdown",
   "metadata": {},
   "source": [
    "loop 1000 times for each roi\n",
    "run all the models after each shuffle"
   ]
  },
  {
   "cell_type": "code",
   "execution_count": 4,
   "metadata": {},
   "outputs": [
    {
     "name": "stderr",
     "output_type": "stream",
     "text": [
      "/data/software/miniconda3/envs/hddm0.9/lib/python3.6/site-packages/ipykernel_launcher.py:18: SettingWithCopyWarning: \n",
      "A value is trying to be set on a copy of a slice from a DataFrame.\n",
      "Try using .loc[row_indexer,col_indexer] = value instead\n",
      "\n",
      "See the caveats in the documentation: https://pandas.pydata.org/pandas-docs/stable/user_guide/indexing.html#returning-a-view-versus-a-copy\n",
      "/data/software/miniconda3/envs/hddm0.9/lib/python3.6/site-packages/ipykernel_launcher.py:19: SettingWithCopyWarning: \n",
      "A value is trying to be set on a copy of a slice from a DataFrame.\n",
      "Try using .loc[row_indexer,col_indexer] = value instead\n",
      "\n",
      "See the caveats in the documentation: https://pandas.pydata.org/pandas-docs/stable/user_guide/indexing.html#returning-a-view-versus-a-copy\n"
     ]
    }
   ],
   "source": [
    "roi_ls = [41]\n",
    "for i in range(0,1):\n",
    "    num_row = 0\n",
    "    behav_shu = pd.DataFrame()\n",
    "    for p in range(100,143):\n",
    "        if p in behave_df['sbj'].values:\n",
    "            subj_df = behave_df[behave_df['sbj']== p] #identify each subject and put into a smaller df\n",
    "            nrow= len(subj_df)\n",
    "            count_5 = subj_df['run'].value_counts()[5]\n",
    "            count_6 = subj_df['run'].value_counts()[6]\n",
    "            run_5 = [5] * count_5\n",
    "            run_6 = [6] * count_6\n",
    "            new_run = run_5 + run_6\n",
    "            rand_5 = random.sample(range(1,count_5+1),count_5)\n",
    "            rand_6 = random.sample(range(1,count_6+1),count_6)\n",
    "            rand_int = rand_5 + rand_6\n",
    "            subj_df['runtrial'] = rand_int\n",
    "            subj_df['run'] = new_run\n",
    "            subj_sorted = subj_df.sort_values(by=['run', 'runtrial'])\n",
    "            # subj_sorted.to_csv(f'{p}_sorted.csv')\n",
    "            behav_shu = pd.concat([behav_shu,subj_sorted], axis=0) # concat dfs vertically\n",
    "    # df_shu = subj_df.sort_values(by=['run', 'runtrial'])\n",
    "    # df_noind = behav_shu.iloc[:,1:]\n",
    "    behav_shu = behav_shu.reset_index(drop=True)\n",
    "    roi_df = roi_df.reset_index(drop=True)\n",
    "    df_shu = pd.concat([behav_shu,roi_df], axis=1)\n",
    "    #behav_shu.to_csv(f'behav_shu{i}.csv')\n",
    "    #df_shu.to_csv(f'whole_shuffled{i}.csv')\n",
    "   \n",
    "    "
   ]
  },
  {
   "cell_type": "code",
   "execution_count": 14,
   "metadata": {},
   "outputs": [
    {
     "name": "stdout",
     "output_type": "stream",
     "text": [
      "No model attribute --> setting up standard HDDM\n",
      "Set model to ddm\n",
      " [-----------------100%-----------------] 50 of 50 complete in 41.7 sec"
     ]
    }
   ],
   "source": [
    "for roi in roi_ls:\n",
    "        m_reg = hddm.HDDMRegressor(df_shu,f\"v ~ roi{roi} * C(type,Treatment('prototype'))\",\n",
    "                                p_outlier=0.05)  \n",
    "        m_reg.sample(50, burn=5)\n",
    "        m_reg.gen_stats()\n",
    "        "
   ]
  },
  {
   "cell_type": "code",
   "execution_count": 15,
   "metadata": {},
   "outputs": [],
   "source": [
    "stats = m_reg.gen_stats()"
   ]
  },
  {
   "cell_type": "code",
   "execution_count": 19,
   "metadata": {},
   "outputs": [
    {
     "name": "stdout",
     "output_type": "stream",
     "text": [
      "4587.792264986136\n"
     ]
    }
   ],
   "source": [
    "print(m_reg.dic)"
   ]
  },
  {
   "cell_type": "code",
   "execution_count": null,
   "metadata": {},
   "outputs": [],
   "source": [
    "for roi in roi_ls:\n",
    "        m_reg = hddm.HDDMRegressor(df_shu,f\"v ~ roi{roi} * C(type,Treatment('prototype'))\",\n",
    "                                p_outlier=0.05)  \n",
    "        m_reg.sample(2000, burn=1000)\n",
    "        # m_reg.print_stats()\n",
    "        DIC_ls.append(m_reg.dic)"
   ]
  }
 ],
 "metadata": {
  "kernelspec": {
   "display_name": "hddm0.9",
   "language": "python",
   "name": "python3"
  },
  "language_info": {
   "codemirror_mode": {
    "name": "ipython",
    "version": 3
   },
   "file_extension": ".py",
   "mimetype": "text/x-python",
   "name": "python",
   "nbconvert_exporter": "python",
   "pygments_lexer": "ipython3",
   "version": "3.6.10"
  },
  "orig_nbformat": 4,
  "vscode": {
   "interpreter": {
    "hash": "bdb9c5480803eea6e2d68b6e4614691b7b9970c248fc01b47d610ef9af835dbd"
   }
  }
 },
 "nbformat": 4,
 "nbformat_minor": 2
}
