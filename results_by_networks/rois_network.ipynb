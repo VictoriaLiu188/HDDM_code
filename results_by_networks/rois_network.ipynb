{
 "cells": [
  {
   "cell_type": "code",
   "execution_count": 1,
   "metadata": {},
   "outputs": [],
   "source": [
    "# warning settings\n",
    "import warnings\n",
    "warnings.simplefilter(action='ignore', category=FutureWarning)\n",
    "\n",
    "# Data management\n",
    "import pandas as pd\n",
    "import numpy as np\n",
    "import pickle\n",
    "\n",
    "# Plotting\n",
    "import matplotlib.pyplot as plt\n",
    "import matplotlib\n",
    "import seaborn as sns\n",
    "\n",
    "# HDDM\n",
    "import hddm\n",
    "\n",
    "\n",
    "\n",
    "\n",
    "df_orig = pd.read_csv('/data/victoria/HDDM_code/full_brain_behav.csv')\n",
    "df = df_orig\n",
    "df.rt = df.rt/1000\n",
    "df = hddm.utils.flip_errors(df)\n",
    "df = df.dropna()"
   ]
  },
  {
   "cell_type": "code",
   "execution_count": 2,
   "metadata": {},
   "outputs": [],
   "source": [
    "early_learn = df[df['run'].isin([1, 2])].copy()\n",
    "proto_df = early_learn[early_learn['type'] == 'prototype']\n",
    "exception_df = early_learn[early_learn['type'] == 'exception']\n",
    "rf_df = early_learn[early_learn['type'] == 'rule follower']\n"
   ]
  },
  {
   "cell_type": "code",
   "execution_count": 3,
   "metadata": {},
   "outputs": [
    {
     "name": "stdout",
     "output_type": "stream",
     "text": [
      "No model attribute --> setting up standard HDDM\n",
      "Set model to ddm\n",
      "-2393.1144431437474\n",
      "-2393.0399498137654\n",
      " [-----------------100%-----------------] 2000 of 2000 complete in 166.9 sec                                                           mean        std        2.5q         25q          50q         75q      97.5q       mc err\n",
      "v_Intercept                                           0.0164159  0.0385446  -0.0590342   -0.008359    0.0174285   0.0409488  0.0945173   0.00189506\n",
      "v_C(type, Treatment('prototype'))[T.exception]        0.0835367  0.0759977  -0.0604692   0.0340487    0.0815809    0.131975   0.249135   0.00308894\n",
      "v_C(type, Treatment('prototype'))[T.rule follower] -2.80731e-06  0.0617937   -0.122498  -0.0441428  0.000885291   0.0435047   0.114018    0.0027823\n",
      "a_Intercept                                             1.89656  0.0332343     1.83382     1.87431      1.89625     1.91957    1.96256   0.00208663\n",
      "a_C(type, Treatment('prototype'))[T.exception]         0.003745  0.0655044   -0.121683  -0.0385297   0.00257974   0.0466928   0.136419   0.00355743\n",
      "a_C(type, Treatment('prototype'))[T.rule follower]   -0.0299723  0.0521896   -0.125306  -0.0666904   -0.0297117  0.00714472   0.069054   0.00303603\n",
      "t_Intercept                                            0.368998  0.0100972    0.348739    0.362062     0.369067     0.37567   0.388095  0.000722297\n",
      "t_C(type, Treatment('prototype'))[T.exception]       0.00380911  0.0207039  -0.0385318 -0.00906539   0.00442287   0.0187441  0.0399715   0.00124384\n",
      "t_C(type, Treatment('prototype'))[T.rule follower]    0.0250605  0.0145176 -0.00354056    0.014938    0.0254457   0.0350899  0.0528396  0.000961685\n",
      "DIC: 4755.837439\n",
      "deviance: 4746.794960\n",
      "pD: 9.042478\n"
     ]
    }
   ],
   "source": [
    "m_baseline = hddm.HDDMRegressor(early_learn, [\"v ~ C(type,Treatment('prototype'))\", \\\n",
    "                                        \"a ~ C(type,Treatment('prototype'))\",\\\n",
    "                                        \"t ~ C(type,Treatment('prototype'))\"],\n",
    "                                    p_outlier=0.05)  \n",
    "m_baseline.find_starting_values()\n",
    "m_baseline.sample(2000, burn=1000)\n",
    "m_baseline.print_stats()"
   ]
  }
 ],
 "metadata": {
  "kernelspec": {
   "display_name": "hddm0.9",
   "language": "python",
   "name": "python3"
  },
  "language_info": {
   "codemirror_mode": {
    "name": "ipython",
    "version": 3
   },
   "file_extension": ".py",
   "mimetype": "text/x-python",
   "name": "python",
   "nbconvert_exporter": "python",
   "pygments_lexer": "ipython3",
   "version": "3.6.13"
  },
  "orig_nbformat": 4
 },
 "nbformat": 4,
 "nbformat_minor": 2
}
