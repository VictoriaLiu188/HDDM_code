{
 "cells": [
  {
   "cell_type": "code",
   "execution_count": 1,
   "metadata": {},
   "outputs": [],
   "source": [
    "from PIL import Image"
   ]
  },
  {
   "cell_type": "code",
   "execution_count": 78,
   "metadata": {},
   "outputs": [],
   "source": [
    "image1 = Image.open('t_ROI90_medians.png')\n",
    "image2 = Image.open('t_ROI91_medians.png')\n",
    "image3 = Image.open('t_ROI92_medians.png')\n",
    "image4 = Image.open('t_ROI93_medians.png')\n",
    "# image5 = Image.open('a_ROI77_median.png')\n",
    "width, height = image1.size\n",
    "big_image_width = 2 * width  # Double the width to fit two images side by side\n",
    "big_image_height = 2 * height  # Double the height to fit two images on top of each other\n",
    "big_image = Image.new('RGB', (big_image_width, big_image_height))\n",
    "big_image.paste(image1, (0, 0))\n",
    "big_image.paste(image2, (width, 0))\n",
    "big_image.paste(image3, (0, height))\n",
    "big_image.paste(image4, (width, height))\n",
    "# big_image.paste(image5, (2 * width, 0))  # Place the fifth image in the empty cell\n"
   ]
  },
  {
   "cell_type": "code",
   "execution_count": 77,
   "metadata": {},
   "outputs": [],
   "source": [
    "big_image.save('t_DMN_3_medians.jpg')\n"
   ]
  },
  {
   "cell_type": "code",
   "execution_count": 73,
   "metadata": {},
   "outputs": [],
   "source": [
    "image1 = Image.open('t_ROI68_medians.png')\n",
    "image2 = Image.open('t_ROI70_medians.png')\n",
    "# Get the dimensions of the first image\n",
    "width1, height1 = image1.size\n",
    "\n",
    "# Get the dimensions of the second image\n",
    "width2, height2 = image2.size\n",
    "\n",
    "# Calculate the size of the combined image\n",
    "new_width = width1 + width2\n",
    "new_height = max(height1, height2)\n",
    "\n",
    "# Create a new blank image with the calculated dimensions\n",
    "combined_image = Image.new('RGB', (new_width, new_height))\n",
    "\n",
    "# Paste the first image onto the new image at (0, 0)\n",
    "combined_image.paste(image1, (0, 0))\n",
    "\n",
    "# Paste the second image onto the new image at (width1, 0)\n",
    "combined_image.paste(image2, (width1, 0))\n",
    "\n",
    "# Save or display the combined image\n",
    "combined_image.save('t_DA_3_medians.jpg')\n"
   ]
  }
 ],
 "metadata": {
  "kernelspec": {
   "display_name": "hddm0.9c",
   "language": "python",
   "name": "python3"
  },
  "language_info": {
   "codemirror_mode": {
    "name": "ipython",
    "version": 3
   },
   "file_extension": ".py",
   "mimetype": "text/x-python",
   "name": "python",
   "nbconvert_exporter": "python",
   "pygments_lexer": "ipython3",
   "version": "3.6.13"
  },
  "orig_nbformat": 4
 },
 "nbformat": 4,
 "nbformat_minor": 2
}
